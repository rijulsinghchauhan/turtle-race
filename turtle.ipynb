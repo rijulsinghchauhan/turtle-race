{
 "cells": [
  {
   "cell_type": "code",
   "execution_count": 1,
   "metadata": {},
   "outputs": [
    {
     "name": "stdout",
     "output_type": "stream",
     "text": [
      "Enter the number of racers (2 - 10): 5\n",
      "The winner is the turtle with color: cyan\n"
     ]
    }
   ],
   "source": [
    "import turtle\n",
    "import time\n",
    "import random\n",
    "\n",
    "WIDTH, HEIGHT = 700, 600\n",
    "COLORS = ['red', 'green', 'blue', 'orange', 'yellow', 'black', 'purple', 'pink', 'brown', 'cyan']\n",
    "\n",
    "def get_number_of_racers():\n",
    "    racers = 0\n",
    "    while True:\n",
    "        racers = input('Enter the number of racers (2 - 10): ')\n",
    "        if racers.isdigit():\n",
    "            racers = int(racers)\n",
    "        else:\n",
    "            print('Input is not numeric... Try Again!')\n",
    "            continue\n",
    "\n",
    "        if 2 <= racers <= 10:\n",
    "            return racers\n",
    "        else:\n",
    "            print('Number not in range 2-10. Try Again!')\n",
    "def race(colors):\n",
    "    turtles = create_turtles(colors)\n",
    "    while True:\n",
    "        for racer in turtles:\n",
    "            distance = random.randrange(1, 20)\n",
    "            racer.forward(distance)\n",
    "\n",
    "            x, y = racer.pos()\n",
    "            if y >= HEIGHT // 2 - 10:\n",
    "                return colors[turtles.index(racer)]\n",
    "\n",
    "def create_turtles(colors):\n",
    "    turtles = []\n",
    "    spacingx = WIDTH // (len(colors) + 1)\n",
    "    for i, color in enumerate(colors):\n",
    "        racer = turtle.Turtle()\n",
    "        racer.color(color)\n",
    "        racer.shape('turtle')\n",
    "        racer.left(90)\n",
    "        racer.penup()\n",
    "\t\tracer.setpos(-WIDTH//2 + (i + 1) * spacingx, -HEIGHT//2 + 20)\n",
    "\t\tracer.pendown()\n",
    "\t\tturtles.append(racer)\n",
    "\n",
    "\treturn turtles\n",
    "\n",
    "def init_turtle():\n",
    "\tscreen = turtle.Screen()\n",
    "\tscreen.setup(WIDTH, HEIGHT)\n",
    "\tscreen.title('Turtle Racing!')\n",
    "\n",
    "racers = get_number_of_racers()\n",
    "init_turtle()\n",
    "\n",
    "random.shuffle(COLORS)\n",
    "colors = COLORS[:racers]\n",
    "\n",
    "winner = race(colors)\n",
    "print(\"The winner is the turtle with color:\", winner)\n",
    "time.sleep(5)"
   ]
  },
  {
   "cell_type": "code",
   "execution_count": null,
   "metadata": {},
   "outputs": [],
   "source": []
  }
 ],
 "metadata": {
  "kernelspec": {
   "display_name": "Python 3",
   "language": "python",
   "name": "python3"
  },
  "language_info": {
   "codemirror_mode": {
    "name": "ipython",
    "version": 3
   },
   "file_extension": ".py",
   "mimetype": "text/x-python",
   "name": "python",
   "nbconvert_exporter": "python",
   "pygments_lexer": "ipython3",
   "version": "3.8.5"
  }
 },
 "nbformat": 4,
 "nbformat_minor": 4
}
